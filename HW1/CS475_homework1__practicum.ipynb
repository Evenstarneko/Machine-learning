{
 "cells": [
  {
   "cell_type": "markdown",
   "metadata": {
    "id": "UwU-lXZEFV-4"
   },
   "source": [
    "# Homework 1 Practicum (35 Points)\n",
    "### Version 1.0 (September 13, 2021)\n",
    "\n"
   ]
  },
  {
   "cell_type": "markdown",
   "metadata": {
    "id": "hnRCMdPrSBw8"
   },
   "source": [
    "\n",
    "\n",
    "```\n",
    "# This is formatted as code\n",
    "```\n",
    "Partner 1: Chang Yan (cyan13), Partner 2: Jingguo Liang (jliang35)"
   ]
  },
  {
   "cell_type": "markdown",
   "metadata": {
    "id": "yS_0juBfFV-5"
   },
   "source": [
    "**Instructions:**\n",
    "This notebook is intended to guide you through creating and exploring your dataset. Please answer all questions in this notebook (you will see <font color='blue'>TODO</font> annotations for where to include your answers). At the beginning of each part, we will bullet the expected deliverables for you to complete. All questions can be answered in 1-4 sentences, unless otherwise noted.\n",
    "\n",
    "Please <font color='blue'>make a copy of this notebook in your own drive</font> before you make any edits. You can do so through File -> Save a copy in Drive"
   ]
  },
  {
   "cell_type": "markdown",
   "metadata": {
    "id": "pKB_9fxJFV-5"
   },
   "source": [
    "## Part 1: Defining the Problem and Choosing a Dataset \n",
    "Things to do in this part:\n",
    "1. Answer questions 1-5\n",
    "2. Identify data sources to use in your dataset\n",
    "3. List data sources used in question 5"
   ]
  },
  {
   "cell_type": "markdown",
   "metadata": {
    "id": "v-H02HwkFV-6"
   },
   "source": [
    "Your first task is to choose a problem you're interested in. You are free to choose from any domain, but it should be within the **supervised learning** paradigm. In other words, a supervised classifier should be able to generalize from a training sample of $(X,y)$ pairs to predict outcomes on unseen data $x$. We want to use machine learning, so your problem should be difficult to solve using traditional programming algorithms. \n",
    "\n",
    "For simplicity, you will construct data for a binary or multiclass classification problem, where the possible labels are given by a fixed set of choices, or for a regression task (real-valued labels). Do not build a dataset for a structured prediction task.\n"
   ]
  },
  {
   "cell_type": "markdown",
   "metadata": {
    "id": "LgcLquEUFV-7"
   },
   "source": [
    "#### 1) In one or two sentences, what are you interested in predicting given what data? This is your supervised learning problem. \n",
    "\n",
    "You should answer this question before creating your dataset, as it will provide an indication of what to search for."
   ]
  },
  {
   "cell_type": "markdown",
   "metadata": {
    "id": "SBUkGwoQFV-7"
   },
   "source": [
    "<font color='blue'>\n",
    "The data is a set of 2D 28*28 black and white images, each represents one of 0-9 hand-written digits. The target I want to predict is the corresponding digit given each image. \n",
    "</font>"
   ]
  },
  {
   "cell_type": "markdown",
   "metadata": {
    "id": "uM4QYQHuFV-8"
   },
   "source": [
    "#### 2) Is this a well-defined problem? Why or why not? What ambiguities (if any) exist in your problem? \n",
    "\n",
    "Think about what challenges you solved by formulating the problem in this way."
   ]
  },
  {
   "cell_type": "markdown",
   "metadata": {
    "id": "bVz7YeaIFV-9"
   },
   "source": [
    "<font color='blue'>\n",
    "    The problem is well defined. First, the task is to find the label Y (0-9) of each image X, and both X and Y are clear and well defined. Second, each input X (the image) has a unique label Y (digit 0-9). Third, the performance can be measured by comparing the predicted Y to the actual Y. Last, we have a large data set (becasue a large number of such images are available) that can be used for the algorithm to gain experience.\n",
    "</font>"
   ]
  },
  {
   "cell_type": "markdown",
   "metadata": {
    "id": "9jT9VG9nFV-9"
   },
   "source": [
    "#### 3) Does an easy (non-ML) solution exist for the problem? What are existing ways this problem, or a similar problem, is addressed (regardless of difficulty)? "
   ]
  },
  {
   "cell_type": "markdown",
   "metadata": {
    "id": "hQEu9DtuFV--"
   },
   "source": [
    "<font color='blue'>\n",
    "    As far as I know, there does not exist any accurate non-ML solution. There do have some methods, like doing registration onto standard digits, but they perform poorly. Those hand-written digits vary very much in shape and positions, so traditional algorithms are hard to classify it. Similar problem to this is pattern recognition, which is commonly addressed using ML methods.\n",
    "</font>"
   ]
  },
  {
   "cell_type": "markdown",
   "metadata": {
    "id": "pzvM5R8eO6G0"
   },
   "source": [
    "#### 4) Why is using machine learning for this problem justified? "
   ]
  },
  {
   "cell_type": "markdown",
   "metadata": {
    "id": "DO7DUW_-PCVw"
   },
   "source": [
    "<font color='blue'>\n",
    "    Because this problem is well defined for learning, and all non-ML solutions performs badly on this problem. Also, image data itself is more suitable for ML as we need to recognize the patterns in the image, which can be hardly done using other methods. It has a well-defined dataset of the same number of features, and the dataset is relatively large. A set of labels is also provided for each data point, making supervised learning possible.\n",
    "</font>"
   ]
  },
  {
   "cell_type": "markdown",
   "metadata": {
    "id": "3i70yHkXFV-_"
   },
   "source": [
    "Now, we'll turn to data we can use to actually solve your problem. You may wish to use Section 3.1 of the assignment sheet for inspiration. **Remember, you are expected to *create* a dataset, not use an existing one**.\n",
    "\n",
    "#### 5) List the source of data you used (if more than one) when creating your dataset along with (very briefly) what you obtained from it.\n",
    "\n",
    "<br /> Obtained features: 28*28 images from http://yann.lecun.com/exdb/mnist/train-images-idx3-ubyte.gz. <br /> Obtained labels from http://yann.lecun.com/exdb/mnist/train-labels-idx1-ubyte.gz."
   ]
  },
  {
   "cell_type": "markdown",
   "metadata": {
    "id": "kWYNsEn3FV_A"
   },
   "source": [
    "<font color='blue'>\n",
    "     <br /> Obtained features: 28*28 images from http://yann.lecun.com/exdb/mnist/train-images-idx3-ubyte.gz. <br /> Obtained labels from http://yann.lecun.com/exdb/mnist/train-labels-idx1-ubyte.gz. <br />\n",
    "    I obtained 60000 28*28 images files of hand-written digits from them (They are in one binary file and I need to extract them). There is also another file containing the labels which is also a binary file I need to decode.\n",
    "</font>"
   ]
  },
  {
   "cell_type": "markdown",
   "metadata": {
    "id": "xudIDiZ0FV_A"
   },
   "source": [
    "## Part 2: What does the data look like?\n",
    "Things to do in this part:\n",
    "1. Answer questions 6-11\n",
    "2. Print a few examples of raw data (if possible) otherwise explain what the raw data looks like.\n",
    "3. Create at least 3 numerical features from your raw data\n",
    "4. Create dataset such that $X\\in\\mathbb{R}^{m\\times n}$ and $y\\in\\mathbb{R}^m$ are both numpy arrays\n",
    "5. Create 1 visual that helps you understand your data."
   ]
  },
  {
   "cell_type": "markdown",
   "metadata": {
    "id": "-upcCn1VFV_B"
   },
   "source": [
    "Let's take a look at the various data you've collected. First let's read in the raw data. You may read the data into whatever is most convenient (e.g. a list, a numpy array, a Pandas dataframe, etc.). **At this point your data will be in whatever format you downloaded them in**. For example, if you're working with text data, your data might be strings of words or collection of text documents. If you are working with image data, you might have a collection of images.\n",
    "<br /><br />\n",
    "For those of you new to working with data in Python, we have included examples of how to import the raw data. These are merely suggestions if they work for you. You don't have to use them."
   ]
  },
  {
   "cell_type": "code",
   "execution_count": null,
   "metadata": {
    "colab": {
     "base_uri": "https://localhost:8080/"
    },
    "id": "aXBagGiALN7H",
    "outputId": "7316fce7-93a4-4e71-9345-c65435753478"
   },
   "outputs": [
    {
     "name": "stdout",
     "output_type": "stream",
     "text": [
      "Mounted at /content/drive\n"
     ]
    }
   ],
   "source": [
    "from google.colab import drive\n",
    "drive.mount('/content/drive')"
   ]
  },
  {
   "cell_type": "code",
   "execution_count": 26,
   "metadata": {
    "id": "JoUhpBYFFV_B"
   },
   "outputs": [],
   "source": [
    "# # Suppose you have a directory called documents that contains Wikipedia articles, you can process these as follows:\n",
    "# # Cleaning the data (e.g. removing stop words) is not required.\n",
    "# import os\n",
    "# from collections import defaultdict\n",
    "\n",
    "# files = [f for f in os.listdir('documents') if os.path.isfile(os.path.join('documents', f))\n",
    "# X = defaultdict(list)\n",
    "# for i, file in enumerate(files[:len(files)], start=1):\n",
    "#     with open(os.path.join('documents', file)) as f:\n",
    "#         X['doc_' + str(i)] = f.readlines()\n",
    "# # X is a dictinary that maps doc_id to text.\n",
    "\n",
    "# # Suppose you have labels that are stored in a CSV file:\n",
    "# import pandas as pd\n",
    "\n",
    "# y = pd.read_csv('labels.csv')\n",
    "# # y is a Pandas dataframe that contains each label.\n",
    "\n",
    "# # Suppose you have a directory called images that contains pictures of cats, you can process them as follows:\n",
    "# from PIL import Image\n",
    "\n",
    "# images = [f for f in os.listdir('images') if os.path.isfile(os.path.join('images', f))\n",
    "# X = [Image.open(image) for image in images]\n",
    "# # X is a list of PIL Image objects\n",
    "\n",
    "#######################################################\n",
    "# TODO: Read in your raw data\n",
    "import numpy as np\n",
    "f = open('/content/drive/MyDrive/train-labels.idx1-ubyte', 'rb') # opening the label binary file\n",
    "content = f.read() # reading all lines\n",
    "# the labels start at positon 8 and has total of 60000 ones\n",
    "y = np.zeros(60000)\n",
    "for i in range(60000):\n",
    "    y[i] = content[i+8]\n",
    "f = open('/content/drive/MyDrive/train-images.idx3-ubyte', 'rb') # opening the data binary file\n",
    "content = f.read() # reading all lines\n",
    "# the images start at postion 16 and each is 28*28\n",
    "X = np.zeros((60000, 28, 28))\n",
    "for i in range(60000):\n",
    "    temp = content[i*28*28+16: (i+1)*28*28+16]\n",
    "    array = np.zeros(28*28)\n",
    "    for j in range(28*28):\n",
    "        array[j] = temp[j]\n",
    "    X[i] = np.reshape(array,(28,28))\n",
    "#######################################################"
   ]
  },
  {
   "cell_type": "markdown",
   "metadata": {
    "id": "OTyyXMhtFV_F"
   },
   "source": [
    "Now, let's print a few examples. Depending on your data format, you may have to write this yourself. We have provided some examples below. "
   ]
  },
  {
   "cell_type": "code",
   "execution_count": 35,
   "metadata": {
    "colab": {
     "base_uri": "https://localhost:8080/",
     "height": 1427
    },
    "id": "EygmSPFnFV_F",
    "outputId": "9e9b6261-783a-4823-e636-3127c9858ad3"
   },
   "outputs": [
    {
     "name": "stdout",
     "output_type": "stream",
     "text": [
      "image:\n"
     ]
    },
    {
     "data": {
      "image/png": "[encoded data removed]",
      "text/plain": [
       "<Figure size 432x288 with 1 Axes>"
      ]
     },
     "metadata": {
      "needs_background": "light"
     },
     "output_type": "display_data"
    },
    {
     "name": "stdout",
     "output_type": "stream",
     "text": [
      "label: 5.0\n",
      "image:\n"
     ]
    },
    {
     "data": {
      "image/png": "[encoded data removed]",
      "text/plain": [
       "<Figure size 432x288 with 1 Axes>"
      ]
     },
     "metadata": {
      "needs_background": "light"
     },
     "output_type": "display_data"
    },
    {
     "name": "stdout",
     "output_type": "stream",
     "text": [
      "label: 0.0\n",
      "image:\n"
     ]
    },
    {
     "data": {
      "image/png": "[encoded data removed]",
      "text/plain": [
       "<Figure size 432x288 with 1 Axes>"
      ]
     },
     "metadata": {
      "needs_background": "light"
     },
     "output_type": "display_data"
    },
    {
     "name": "stdout",
     "output_type": "stream",
     "text": [
      "label: 4.0\n",
      "image:\n"
     ]
    },
    {
     "data": {
      "image/png": "[encoded data removed]",
      "text/plain": [
       "<Figure size 432x288 with 1 Axes>"
      ]
     },
     "metadata": {
      "needs_background": "light"
     },
     "output_type": "display_data"
    },
    {
     "name": "stdout",
     "output_type": "stream",
     "text": [
      "label: 1.0\n",
      "image:\n"
     ]
    },
    {
     "data": {
      "image/png": "[encoded data removed]",
      "text/plain": [
       "<Figure size 432x288 with 1 Axes>"
      ]
     },
     "metadata": {
      "needs_background": "light"
     },
     "output_type": "display_data"
    },
    {
     "name": "stdout",
     "output_type": "stream",
     "text": [
      "label: 9.0\n"
     ]
    }
   ],
   "source": [
    "# # If your data is stored in an array:\n",
    "# print('X:', X[:5])\n",
    "# print('y:', y[:5])\n",
    "\n",
    "# # If your data consists of image files:\n",
    "# from PIL import Image\n",
    "\n",
    "# for i in range(5):\n",
    "#     print('image:')\n",
    "#     img = X[i]\n",
    "#     img.show()\n",
    "#     print('label:', y[i])\n",
    "\n",
    "#######################################################\n",
    "# TODO: print out what a few examples of your raw data.\n",
    "import matplotlib.pyplot as plt \n",
    "for i in range(5):\n",
    "    print('image:')\n",
    "    plt.imshow(X[i], cmap = \"gray\")\n",
    "    plt.show()\n",
    "    print('label:', y[i])\n",
    "#######################################################"
   ]
  },
  {
   "cell_type": "markdown",
   "metadata": {
    "id": "_O9OGkeHOW0V"
   },
   "source": [
    "#### (Optional) If your raw data format can't be displayed in a Jupyter notebook (e.g. video or audio files), you may skip the above step. You should still look at the raw data in whatever way possibly, but instead just describe what the raw data is that you look at."
   ]
  },
  {
   "cell_type": "markdown",
   "metadata": {
    "id": "WeRwNo2-O3XQ"
   },
   "source": [
    "<font color='blue'>\n",
    "    TODO: replace this cell with your answer. Leave blank if not applicable.\n",
    "</font>"
   ]
  },
  {
   "cell_type": "markdown",
   "metadata": {
    "id": "FenpyQiTzDUK"
   },
   "source": []
  },
  {
   "cell_type": "markdown",
   "metadata": {
    "id": "6LrYreKhFV_I"
   },
   "source": [
    "#### 6) What information is contained in each example (row) in $X$? These are your raw data features."
   ]
  },
  {
   "cell_type": "markdown",
   "metadata": {
    "id": "Q9_MNK-1FV_I"
   },
   "source": [
    "<font color='blue'>\n",
    "    The information contained in X is the intensity of each pixel in the 28*28 image. There is are total of 28*28 = 784 features, they are all grayscale intensities.\n",
    "</font>"
   ]
  },
  {
   "cell_type": "markdown",
   "metadata": {
    "id": "nnloVU9iFV_J"
   },
   "source": [
    "If your data is not numerical, this will be difficult for an algorithm to learn directly. So, now that you've seen what the raw data looks like, if you have non-numerical features, you would need to extract *numerical* features from the raw data.\n",
    "<br /><br />\n",
    "We can obtain numeric features through a process called **feature engineering**. Features may be derived from the existing raw data or may come from other data sources that can be associated with each example. This is a challenging task that often requires domain knowledge about the problem you are trying to solve. \n",
    "<br /><br />\n",
    "While very important in dataset creation, feature engineering is not the focus of this assignment. You can choose to exclude the non-numeric features from your dataset or you can try feature engineering or you may choose work with a simpler dataset. One example of feature engineering is provided below. \n",
    "<br /><br />"
   ]
  },
  {
   "cell_type": "code",
   "execution_count": null,
   "metadata": {
    "id": "Qf0HOYw8FV_K"
   },
   "outputs": [],
   "source": [
    "# # If you're using text data stored in a dictionary (like example above):\n",
    "# # Suppose each document is a string that contains a period\n",
    "# # and are trying to predict end of sentences (EOS),\n",
    "# import re\n",
    "# import pandas as pd\n",
    "# from collections import defaultdict\n",
    "\n",
    "# # Convert X from doc_id -> text to doc_id -> {sentence, features}\n",
    "# X = {k:{'sentence': v, 'features': None} for k,v in X.items()}\n",
    "\n",
    "# # suppose you downloaded these external data: common abbreviations, titles (e.g. mr, ms, dr), month abbreviations (e.g. sept, oct)\n",
    "# abbrevs = pd.read_csv('common_abbrevs.csv')\n",
    "# titles = pd.read_csv('titles.csv')\n",
    "# months = pd.read_csv('month_abbrevs.csv')\n",
    "\n",
    "# # for the purpose of this example, assume all documents have len > 3\n",
    "# features = defaultdict(int)\n",
    "# for doc_id, doc in X.items():\n",
    "#     idx = re.find('.')\n",
    "#     one_before = doc['sentence'][idx - 1] if idx > 0 else None\n",
    "#     one_after = doc['sentence'][idx + 1] if idx < len(doc['sentence']) - 1 else None\n",
    "#     features['is_abbrev'] = 1 if one_before and one_before in abbrevs else 0\n",
    "#     features['is_title'] = 1 if one_before and one_before in titles else 0\n",
    "#     features['is_month'] = 1 if one_before and one_before in months else 0\n",
    "#     features['is_decimal'] = 1 if one_before and one_after in one_before.isdigit() and one_after.isdigit() else 0\n",
    "#     features['other_punc'] = 1 if any((p in '?!.') for c in doc['sentence'][idx:]) else 0\n",
    "#     features['period_loc'] = idx\n",
    "#     X[doc_id]['features'] = features\n",
    "# # In just a few lines of Python, we created 6 features!"
   ]
  },
  {
   "cell_type": "markdown",
   "metadata": {
    "id": "TpHvVRWLFV_N"
   },
   "source": [
    "Next, let's focus on what you're trying to predict. First, let's see what the potential outcomes look like. "
   ]
  },
  {
   "cell_type": "code",
   "execution_count": 36,
   "metadata": {
    "colab": {
     "base_uri": "https://localhost:8080/",
     "height": 0
    },
    "id": "_sffSMwfFV_N",
    "outputId": "d2ce4cd3-6131-4b85-cb6c-3136ef7dc97c"
   },
   "outputs": [
    {
     "data": {
      "text/plain": [
       "array([0., 1., 2., 3., 4., 5., 6., 7., 8., 9.])"
      ]
     },
     "execution_count": 36,
     "metadata": {},
     "output_type": "execute_result"
    }
   ],
   "source": [
    "import numpy as np\n",
    "\n",
    "np.unique(y)"
   ]
  },
  {
   "cell_type": "markdown",
   "metadata": {
    "id": "B4K9ymaUFV_Q"
   },
   "source": [
    "#### 7) Is your dataset suitable for a regression or classification task? Explain."
   ]
  },
  {
   "cell_type": "markdown",
   "metadata": {
    "id": "LGM97EwNFV_R"
   },
   "source": [
    "<font color='blue'>\n",
    "    This is a classification task as the outcomes are 10 discrete integer values, meaning 10 classes, no other values allowed. So, we are trying to classify the images into 10 classes, which is a classification task.\n",
    "</font>"
   ]
  },
  {
   "cell_type": "markdown",
   "metadata": {
    "id": "ZftGGzDOFV_R"
   },
   "source": [
    "Now, we'll standardize our data as follows. The data matrix $X$ should be a numpy 2d array in $\\mathbb{R}^{m\\times n}$. The labels should be a numpy 1d array in $\\mathbb{R}^m$. $m$ is the number of examples and $n$ is the number of features. **You will be training your supervised classifer on the features, which may not include all (or any) of the raw data**. This is a decision you will make when creating your dataset.\n",
    "<br /><br />\n",
    "Note: this is the format we're looking for your data to be in when you submit your dataset (i.e. $X\\in\\mathbb{R}^{m\\times n}$ and $y\\in\\mathbb{R}^m$ and are both numpy arrays)."
   ]
  },
  {
   "cell_type": "code",
   "execution_count": 38,
   "metadata": {
    "id": "wr0fOeO4FV_S"
   },
   "outputs": [],
   "source": [
    "# # Now, using your numerical features from the previous step, you can construct the dataset.\n",
    "# # Depending on what your raw data was (i.e. if any field was numerical), you may include this in the final dataset\n",
    "# # or you may just use the features you created. \n",
    "\n",
    "# # Using the dictionary from above (doc_id -> {sentence, features}) the dataset can be constructed\n",
    "# import numpy as np\n",
    "\n",
    "# X = np.array([np.array(doc.features.values()) for doc in X.values()])\n",
    "# y = np.array(y) # assume y was a list of binary labels previously\n",
    "\n",
    "#######################################################\n",
    "# TODO: Convert X and y to numpy arrays with appropriate dimensions\n",
    "X = np.reshape(X, (60000, 28*28))\n",
    "y = y\n",
    "#######################################################"
   ]
  },
  {
   "cell_type": "markdown",
   "metadata": {
    "id": "otLeZuuXFV_V"
   },
   "source": [
    "If you have a classification dataset, let's look at class balance. This tells us how many examples we have for each label."
   ]
  },
  {
   "cell_type": "code",
   "execution_count": 39,
   "metadata": {
    "colab": {
     "base_uri": "https://localhost:8080/",
     "height": 0
    },
    "id": "mpg27X_XFV_V",
    "outputId": "d3627599-817f-49ed-f737-8d216871440e"
   },
   "outputs": [
    {
     "name": "stdout",
     "output_type": "stream",
     "text": [
      "5923 examples of class 0.0\n",
      "6742 examples of class 1.0\n",
      "5958 examples of class 2.0\n",
      "6131 examples of class 3.0\n",
      "5842 examples of class 4.0\n",
      "5421 examples of class 5.0\n",
      "5918 examples of class 6.0\n",
      "6265 examples of class 7.0\n",
      "5851 examples of class 8.0\n",
      "5949 examples of class 9.0\n"
     ]
    }
   ],
   "source": [
    "for i in np.unique(y):\n",
    "    print(f'{len(y[y==i])} examples of class {i}')"
   ]
  },
  {
   "cell_type": "markdown",
   "metadata": {
    "id": "o_ecYJ4xFV_Y"
   },
   "source": [
    "#### 8) Classification: Is your dataset balanced or imbalanced?\n",
    "\n",
    "\n",
    "Regression: How are your labels distributed? Normal distrbution? Uniform within a range? etc. "
   ]
  },
  {
   "cell_type": "markdown",
   "metadata": {
    "id": "Gin5wkqFFV_Y"
   },
   "source": [
    "<font color='blue'>\n",
    "    The dataset is roughly balanced, as we can see, each class have roughly 6000 cases, and no class has <5000 or >7000 cases.\n",
    "</font>"
   ]
  },
  {
   "cell_type": "markdown",
   "metadata": {
    "id": "NeSyM-x6FV_Z"
   },
   "source": [
    "Let's compute some statistics for the dataset."
   ]
  },
  {
   "cell_type": "code",
   "execution_count": 40,
   "metadata": {
    "colab": {
     "base_uri": "https://localhost:8080/",
     "height": 0
    },
    "id": "0B5593CnFV_a",
    "outputId": "62b500b1-c12f-4ebe-c732-c3ac698aa449"
   },
   "outputs": [
    {
     "name": "stdout",
     "output_type": "stream",
     "text": [
      "Number of examples: 60000\n",
      "Number of features per example: 784\n"
     ]
    }
   ],
   "source": [
    "#######################################################\n",
    "print(f'Number of examples: {X.shape[0]}')\n",
    "print(f'Number of features per example: {X.shape[1]}')\n",
    "# there are many more that are relevant to the specific domain your data is in.\n",
    "# TODO: if applicable, please include any additional dataset statistics here\n",
    "#######################################################"
   ]
  },
  {
   "cell_type": "markdown",
   "metadata": {
    "id": "NXUdUevoORfr"
   },
   "source": [
    "#### 9) Do you have lot's of high quality data? Explain any limitations (if any) that exist in terms of data quantity and quality."
   ]
  },
  {
   "cell_type": "markdown",
   "metadata": {
    "id": "WmQGjl9JOiOk"
   },
   "source": [
    "<font color='blue'>\n",
    "    I believe I do have high quality data. First, the images are of the same size and the intensities are of the same sacle. Second, although they are in a low resolution (only 28*28) with a bit blurry, each digits can be clearly distinguished by human eye, and the boundaries are clear. Third, we have a large size of Data, which is 60000. One limitation maybe that some images are not centered, i.e. the digit at not exactly on the center of image, and sometimes there are more empty on one side than the other side.\n",
    "</font>"
   ]
  },
  {
   "cell_type": "markdown",
   "metadata": {
    "id": "ZGdroDhAUoiU"
   },
   "source": [
    "Data visualizations help us understand our data and draw insights. Just like there is no single ML algorithm that applies to every problem, there isn't a visualization that works for every dataset.\n",
    "<br /> <br />\n",
    "Instead, you will produce some visuals that you think tell an interesting story about your data. We will provide some suggestions, which you can use for inspiration. \n",
    "<br /> <br />\n",
    "\n",
    "Types of information you may wish to capture (this is by no means comprehensive):\n",
    "*   Missingness of data (consider using heat maps, scatter plots)\n",
    "*   Correlation of features (consider using a correlation matrix)\n",
    "*   Distribution of data (consider using historgrams, violin plots)\n",
    "*   Linear separability, if you have binary classification\n",
    "<br /> <br />\n",
    "\n",
    "Check out these visualization galleries for further inspiration and example code:\n",
    "*   [Seaborn](https://seaborn.pydata.org/examples/index.html)\n",
    "*   [Plotly](https://plotly.com/python/)\n",
    "*   [Python Graph Gallery](https://python-graph-gallery.com/)\n",
    "\n",
    "You should create **at least 1 visualization** for your dataset and explain what you learned about your data from it. Below is an example heatmap showing correlation of features from the sklearn iris dataset."
   ]
  },
  {
   "cell_type": "code",
   "execution_count": null,
   "metadata": {
    "colab": {
     "base_uri": "https://localhost:8080/",
     "height": 347
    },
    "id": "OR77uBw_gI72",
    "outputId": "c3c2e48b-156c-408a-c320-9ed9e6730585"
   },
   "outputs": [
    {
     "data": {
      "image/png": "[encoded data removed]",
      "text/plain": [
       "<Figure size 432x288 with 2 Axes>"
      ]
     },
     "metadata": {
      "needs_background": "light",
      "tags": []
     },
     "output_type": "display_data"
    }
   ],
   "source": [
    "from sklearn import datasets\n",
    "import numpy as np\n",
    "import seaborn as sns\n",
    "import matplotlib.pyplot as plt\n",
    "import pandas as pd\n",
    "\n",
    "iris = datasets.load_iris()\n",
    "df = pd.DataFrame(data= np.c_[iris['data'], iris['target']],\n",
    "                     columns= iris['feature_names'] + ['target'])\n",
    "sns.heatmap(df.corr(), \n",
    "            xticklabels=df.corr().columns.values,\n",
    "            yticklabels=df.corr().columns.values)\n",
    "plt.show()"
   ]
  },
  {
   "cell_type": "code",
   "execution_count": 73,
   "metadata": {
    "colab": {
     "base_uri": "https://localhost:8080/",
     "height": 567
    },
    "id": "LSbCeDaDFV_h",
    "outputId": "edaa1293-3653-4ab2-a1e3-bd5233b85415"
   },
   "outputs": [
    {
     "data": {
      "image/png": "[encoded data removed]",
      "text/plain": [
       "<Figure size 792x648 with 2 Axes>"
      ]
     },
     "metadata": {
      "needs_background": "light"
     },
     "output_type": "display_data"
    }
   ],
   "source": [
    "#######################################################\n",
    "# TODO: Visualize the dataset\n",
    "# I am plotting correlation matrix of part of the features in this dataset\n",
    "# I randomly selected 20 features (pixel locations) to visualize\n",
    "import seaborn as sns\n",
    "import pandas as pd\n",
    "d = pd.DataFrame(data=X,  columns= range(28*28))\n",
    "corr = d.sample(20, axis = 1).corr()\n",
    "# Generate a mask for the upper triangle\n",
    "mask = np.triu(np.ones_like(corr, dtype=bool))\n",
    "# Set up the matplotlib figure\n",
    "f, ax = plt.subplots(figsize=(11, 9))\n",
    "# Generate a custom diverging colormap\n",
    "cmap = sns.diverging_palette(230, 20, as_cmap=True)\n",
    "# Draw the heatmap with the mask and correct aspect ratio\n",
    "sns.heatmap(corr, mask=mask, cmap=cmap, center=0,\n",
    "            square=True, linewidths=.1, cbar_kws={\"shrink\": .5})\n",
    "plt.title(\"correlation heatmap of features\")\n",
    "plt.xlabel(\"Pixel index (features)\")\n",
    "plt.ylabel(\"Pixel index (features)\")\n",
    "plt.savefig(\"out.jpg\")\n",
    "#######################################################"
   ]
  },
  {
   "cell_type": "markdown",
   "metadata": {
    "id": "gb2f_TdIFV_j"
   },
   "source": [
    "#### 10) What insights do you gain from this visualization about your dataset?"
   ]
  },
  {
   "cell_type": "markdown",
   "metadata": {
    "id": "ma30TfvrFV_k"
   },
   "source": [
    "<font color='blue'>\n",
    "    We can see that some pixels has correlations between them, but this correlation is not strong. Most of the pixels has nearly no corrlation (0), only a few has moderate correalations. This should not affect the learning much. It is possible for us to perform a PCA analysis first on the dataset to remove the correlations.\n",
    "</font>"
   ]
  },
  {
   "cell_type": "markdown",
   "metadata": {
    "id": "fPIbEyVOPWsy"
   },
   "source": [
    "#### 11) In your dataset, what discussions would you have about the ethical implications of what you were collecting? Are there any potential issues with fairness? "
   ]
  },
  {
   "cell_type": "markdown",
   "metadata": {
    "id": "Gc-5zTUHPyyg"
   },
   "source": [
    "<font color='blue'>\n",
    "    There are no ethical or fairness issues with my data. This is only classifying digits, and come from an open database.\n",
    "</font>"
   ]
  },
  {
   "cell_type": "markdown",
   "metadata": {
    "id": "ByuJGGbJFV_k"
   },
   "source": [
    "## Part 3: Using your dataset\n",
    "\n",
    "Things to do in this part:\n",
    "1. Perform a train-validation-test split\n",
    "2. Train a simple supervised learning algorithm on dataset\n",
    "3. Hyper-parameter Tuning\n",
    "4. Evaluation\n",
    "5. Discussion"
   ]
  },
  {
   "cell_type": "markdown",
   "metadata": {
    "id": "abr91MAtFV_k"
   },
   "source": [
    "Now that you have created your dataset and explored some of its properties, you will use a supervised classifier to predict the outcome you definined in the problem statement. To evaluate how well this classifier predicts the outcomes, you will need to set some data aside for testing. First, you'll use sklearn to split the data into train and test sets, with 25% of the data reserved for testing."
   ]
  },
  {
   "cell_type": "code",
   "execution_count": 75,
   "metadata": {
    "colab": {
     "base_uri": "https://localhost:8080/",
     "height": 0
    },
    "id": "pvsUJRE7FV_l",
    "outputId": "34c7bc00-e4c8-4bec-ddf6-e0545ec00927"
   },
   "outputs": [
    {
     "name": "stdout",
     "output_type": "stream",
     "text": [
      "Training examples: 45000\n",
      "Testing examples: 15000\n",
      "Training examples: 36000\n",
      "Validation examples: 9000\n"
     ]
    }
   ],
   "source": [
    "from sklearn.model_selection import train_test_split \n",
    "\n",
    "# Train Test Split\n",
    "X_train, X_test, y_train, y_test = train_test_split(\n",
    "    X, y, test_size=0.25, random_state=0)\n",
    "print(f'Training examples: {X_train.shape[0]}\\nTesting examples: \n",
    "      {X_test.shape[0]}')\n",
    "\n",
    "#######################################################\n",
    "# TODO: Split the training data into training and validation splits. \n",
    "# You can use approximately 20% of the training data as our validation data set. \n",
    "# Train Validation Split\n",
    "X_train, X_validation, y_train, y_validation = train_test_split(\n",
    "    X_train, y_train, test_size=0.20, random_state=0)\n",
    "print(f'Training examples: {X_train.shape[0]}\\nValidation examples: \n",
    "      {X_validation.shape[0]}')\n",
    "\n",
    "#######################################################"
   ]
  },
  {
   "cell_type": "markdown",
   "metadata": {
    "id": "0CAu1ruKa-9C"
   },
   "source": [
    "Now, we'll save your train and test sets. Together, these four files will make up the dataset you submit on Gradescope. "
   ]
  },
  {
   "cell_type": "code",
   "execution_count": 76,
   "metadata": {
    "colab": {
     "base_uri": "https://localhost:8080/",
     "height": 0
    },
    "id": "QANcYHlobNNb",
    "outputId": "75a83493-7a11-413e-9f5e-0b2402fcc18a"
   },
   "outputs": [
    {
     "name": "stdout",
     "output_type": "stream",
     "text": [
      "  adding: X_train.csv (deflated 98%)\n",
      "  adding: X_test.csv (deflated 98%)\n",
      "  adding: y_train.csv (deflated 96%)\n",
      "  adding: y_test.csv (deflated 96%)\n"
     ]
    }
   ],
   "source": [
    "import numpy as np \n",
    "\n",
    "np.savetxt(\"X_train.csv\", X_train, delimiter=\",\")\n",
    "np.savetxt(\"X_validation.csv\", X_validation, delimiter=\",\")\n",
    "np.savetxt(\"X_test.csv\", X_test, delimiter=\",\")\n",
    "np.savetxt(\"y_train.csv\", y_train, delimiter=\",\")\n",
    "np.savetxt(\"y_validation.csv\", y_validation, delimiter=\",\")\n",
    "np.savetxt(\"y_test.csv\", y_test, delimiter=\",\")\n",
    "\n",
    "# zip together all components of your dataset\n",
    "!zip homework1_dataset.zip X_train.csv X_test.csv y_train.csv y_test.csv"
   ]
  },
  {
   "cell_type": "markdown",
   "metadata": {
    "id": "mwx3lhczzY91"
   },
   "source": [
    "### Classifier Training"
   ]
  },
  {
   "cell_type": "markdown",
   "metadata": {
    "id": "cS9ISdLyFV_o"
   },
   "source": [
    "Now, let's train a Decision Tree classifier. You can train a decision tree for both regression or classification problem.  You are encouraged to use any popular packages such as sklearn. Here is the link to the scikit-learn site: https://scikit-learn.org/stable/modules/tree.html"
   ]
  },
  {
   "cell_type": "code",
   "execution_count": 79,
   "metadata": {
    "id": "uRlJ86C8FV_o"
   },
   "outputs": [],
   "source": [
    "#######################################################\n",
    "# TODO: Train a decision tree on your dataset (This is a decision Tree Classifier)\n",
    "from sklearn import tree\n",
    "clf = tree.DecisionTreeClassifier()\n",
    "clf = clf.fit(X_train, y_train)\n",
    "#######################################################"
   ]
  },
  {
   "cell_type": "markdown",
   "metadata": {
    "id": "yCnL5uSwMZhK"
   },
   "source": [
    "### Hyperparameter Tuning"
   ]
  },
  {
   "cell_type": "markdown",
   "metadata": {
    "id": "RDnD6__q7hFw"
   },
   "source": [
    "Background on hyperparameters:\n",
    "Most any ML method has 'hyper' or 'run' parameters that the user can tune/adjust, modifying how the algorithm functions. The process of tweaking and optimizing these parameters to improve ML performance is known as [hyperparameter optimization](https://en.wikipedia.org/wiki/Hyperparameter_optimization). A hyperparameter sweep mostly commonly includes identifying which algorithm parameters are known to, or are likely to, impact performance on a given dataset, and then varying the setting of these one or more paramters in separate runs of the algorithm.  This step is not only important for squeezing the maximum performance out of ML methods, but also in fairly compairing the performance of different ML methods on given datasets.  \n",
    "\n",
    "Out of necessity, almost all ML algorithms have default hyperparameters specified (related to [default arguments](https://en.wikipedia.org/wiki/Default_argument). First and foremost, default parameters are specified so that the algorithm is able to run even if the user forgets to specify these hyperparamters. They are often set with the intention of testing out the method on a 'toy' or demonstration dataset included with the software, or they are set as simple, accessible placeholders to ensure that the first time a user runs the software it runs smoothly and quickly. However, default parameters are certainly not guarenteed (if even likely) to lead to optimal ML performance on a given dataset. \n",
    "\n",
    "The most common and basic hyperparameter sweep strategies include a [grid search](https://medium.com/datadriveninvestor/an-introduction-to-grid-search-ff57adcc0998) or a [random search](https://en.wikipedia.org/wiki/Random_search), but other more sophisticated searches are also employed. \n",
    "\n",
    "Like with many other things in ML, there is no absolute right way to perform a hyperparameter sweep. One could easily waste a large amount of computational time on an exhaustive serach of hyperparameter settings and combinations without improving performance much, or at all. However, some degree of hyperparameter searching outside of using the default hyperparameter settings is considered essential to ML best practices. \n"
   ]
  },
  {
   "cell_type": "markdown",
   "metadata": {
    "id": "m28rJdZr0rxS"
   },
   "source": [
    "Now, let's train another classifier and tune its parameters to give it better performance. You are encouraged to try out a different algorithm than the one you used before and can use popular packages such as sklearn. We have provided some sample code on how grid search and random search can be used to tune parameters for Decision Trees below."
   ]
  },
  {
   "cell_type": "markdown",
   "metadata": {
    "id": "IQ7Ib12Y1xZZ"
   },
   "source": [
    "#### You are required to perform a grid search of at least two hyper-parameters of your model. Make sure that you have a way to identify the best hyperparameters for a given dataset and feature extraction method\n",
    "\n",
    "#### Decision Tree - Random Sweep of Major Hyperparameters\n",
    "Here you should consider some of the hyperparameters with the most potential to impact decision tree performance. \n",
    "\n",
    "* max_depth = The maximum depth of the tree. (default = None)\n",
    "* min_samples_split = The minimum number of samples required to split an internal node: (default = 2)\n",
    "* min_samples_leaf  = The minimum number of samples required to be at a leaf node. (default = 1)\n",
    "* criterion = The function to measure the quality of a split. (Default = 'gini')"
   ]
  },
  {
   "cell_type": "code",
   "execution_count": 87,
   "metadata": {
    "colab": {
     "base_uri": "https://localhost:8080/",
     "height": 0
    },
    "id": "BdBbpGoB9MCr",
    "outputId": "3ad35616-8498-49e7-dd7a-9feef4b59eec"
   },
   "outputs": [
    {
     "name": "stdout",
     "output_type": "stream",
     "text": [
      "{'min_samples_split': 4, 'min_samples_leaf': 2, 'max_depth': None, 'criterion': 'entropy'}\n"
     ]
    }
   ],
   "source": [
    "# Prepare a range/set of hyperparameter values for each\n",
    "# param_grid = {\"max_depth\": [3, None], \"min_samples_split\": randint(2, 10), \"min_samples_leaf\": randint(1, 10), \"criterion\": [\"gini\", \"entropy\"]}\n",
    "\n",
    "# model = tree.DecisionTreeClassifier(random_state=randSeed)\n",
    "# Specifics of the random sweep - up to 100 randomly selected hyperparameter combinations\n",
    "# hp_search = RandomizedSearchCV(estimator=model, param_distributions=param_grid, n_iter=100, random_state=randSeed)\n",
    "# hp_search.fit(X_validation, y_validation)\n",
    "\n",
    "#######################################################\n",
    "# TODO: Perform a hyperparameter search using your validation data on a classifier (the classifier can be the same structure as the one your have above)\n",
    "# Prepare a range/set of hyperparameter values for each\n",
    "from sklearn.model_selection import RandomizedSearchCV\n",
    "param_grid = {\"max_depth\": [20, 10, 3, None], \n",
    "              \"min_samples_split\": range(2, 10), \n",
    "              \"min_samples_leaf\": range(1, 10), \n",
    "              \"criterion\": [\"gini\", \"entropy\"]}\n",
    "\n",
    "model = tree.DecisionTreeClassifier(random_state=0)\n",
    "#Specifics of the random sweep - up to 100 randomly selected hyperparameter combinations\n",
    "hp_search = RandomizedSearchCV(estimator=model, \n",
    "                               param_distributions=param_grid, \n",
    "                               n_iter=100, random_state=0)\n",
    "hp_search.fit(X_validation, y_validation)\n",
    "print(hp_search.best_params_)\n",
    "#######################################################\n"
   ]
  },
  {
   "cell_type": "code",
   "execution_count": 90,
   "metadata": {
    "id": "3p7aSzvI88Gy"
   },
   "outputs": [],
   "source": [
    "# The best parameters are {'min_samples_split': 4, 'min_samples_leaf': 2, 'max_depth': None, 'criterion': 'entropy'}\n",
    "# using them to train a new model\n",
    "clf2 = tree.DecisionTreeClassifier(min_samples_split = 4, \n",
    "                                   min_samples_leaf = 2, \n",
    "                                   max_depth = None, \n",
    "                                   criterion = 'entropy')\n",
    "clf2 = clf2.fit(X_train, y_train)\n"
   ]
  },
  {
   "cell_type": "markdown",
   "metadata": {
    "id": "Fp7iR1kH3KaR"
   },
   "source": [
    "### Evaluation"
   ]
  },
  {
   "cell_type": "markdown",
   "metadata": {
    "id": "eWLu3_dfKATF"
   },
   "source": [
    "\n",
    "Proper evaluation is critical to making good conclusions. Many metrics and measures of model 'goodness' exist. Part of what differentiates these evaluation methods is understanding the assumptions being made by a given metric, or what the metric prioritizes as important for model goodness. A nice review of key evaluation metrics can be found [here](http://www.davidsbatista.net/blog/2018/08/19/NLP_Metrics/). \n",
    "\n",
    "Below we will apply some different evaluation methods to the model that was trained using the 'optimal' parameter settings identified in the random sweep or grid search. All evaluations will focus on predictive performance on the testing data. \n",
    "\n",
    "The metrics are typically based on calculations using the different possible classification predictions that can be made: True Positives (TP), True Negative (TN), False Positive (FP), and False Negative (FN).  See [here](https://towardsdatascience.com/the-mystery-of-true-positive-true-negative-false-positive-and-false-negative-fd73c78c905a) to review TP, TN, FP, FN.\n"
   ]
  },
  {
   "cell_type": "code",
   "execution_count": 97,
   "metadata": {
    "colab": {
     "base_uri": "https://localhost:8080/",
     "height": 0
    },
    "id": "qEH58R_T-ybY",
    "outputId": "62160949-2d0d-4769-e061-1dd2da0113bd"
   },
   "outputs": [
    {
     "name": "stdout",
     "output_type": "stream",
     "text": [
      "simple classifer:\n",
      "TP = 1656\n",
      "FP = 119\n",
      "FN = 72\n",
      "TN = 13153\n",
      "tuned classifer:\n",
      "TP = 1659\n",
      "FP = 107\n",
      "FN = 69\n",
      "TN = 13165\n"
     ]
    }
   ],
   "source": [
    "# Sample code for calculating TP, TN, FP and FN for a decision tree\n",
    "#Calculate confusion matrix (true outcomes, predicted outcomes)\n",
    "#TN, FP, FN, TP = confusion_matrix(y_test, dt_test_pred).ravel()\n",
    "\n",
    "#print(\"TP = \"+str(TP))\n",
    "#print(\"FP = \"+str(FP))\n",
    "#print(\"FN = \"+str(FN))\n",
    "#print(\"TN = \"+str(TN))\n",
    "\n",
    "#######################################################\n",
    "# Here, I choose class 1 as my target (positive) and all other classes negative\n",
    "# TODO: Compute TP, TN, FP, FN of the simple classifer you trained and the classifier that you tuned\n",
    "from sklearn.metrics import confusion_matrix\n",
    "# simple classifer\n",
    "dt_test_pred = clf.predict(X_test)\n",
    "print(\"simple classifer:\")\n",
    "y_test_binary = y_test # binarize \n",
    "y_test_binary[y_test != 1] = 0\n",
    "dt_test_pred_binary = dt_test_pred # binarize \n",
    "dt_test_pred_binary[dt_test_pred != 1] = 0\n",
    "TN, FP, FN, TP = confusion_matrix(y_test_binary, \n",
    "                                  dt_test_pred_binary).ravel()\n",
    "print(\"TP = \"+str(TP))\n",
    "print(\"FP = \"+str(FP))\n",
    "print(\"FN = \"+str(FN))\n",
    "print(\"TN = \"+str(TN))\n",
    "# tuned classifer\n",
    "print(\"tuned classifer:\")\n",
    "dt_test_pred2 = clf2.predict(X_test)\n",
    "dt_test_pred2_binary = dt_test_pred2 # binarize \n",
    "dt_test_pred2_binary[dt_test_pred2 != 1] = 0\n",
    "[TN2, FP2, FN2, TP2] = confusion_matrix(y_test_binary, \n",
    "                                        dt_test_pred2_binary).ravel()\n",
    "print(\"TP = \"+str(TP2))\n",
    "print(\"FP = \"+str(FP2))\n",
    "print(\"FN = \"+str(FN2))\n",
    "print(\"TN = \"+str(TN2))\n",
    "#######################################################"
   ]
  },
  {
   "cell_type": "markdown",
   "metadata": {
    "id": "8O_9KuHSIZCK"
   },
   "source": [
    "| Model       | True Positive |True Negative| False Positive| False Negative\n",
    "| :---        |    :----:   |           :----: |          :----: |          :----: |\n",
    "| simple classifer     |    1656     |  13153        |     119        | 72 |                      \n",
    "| tuned classifer     |     1659        |    13156           |       107         |     69            |               \n"
   ]
  },
  {
   "cell_type": "markdown",
   "metadata": {
    "id": "x9tBLQz2CyVn"
   },
   "source": [
    "These values (TP, FP, FN, TN) are components used to calculate a number of different evaluation metrics for classification tasks:\n",
    "\n",
    "* Accuracy = (TP + TN)/(TP + TN + FP + FN)\n",
    "* Precision (a.k.a. Sensitivity)= TP/(TP + FP)\n",
    "* Recall (a.k.a. True Positive Rate) = TP/(TP + FN)\n",
    "* Specificity = TN/(TN + FP)\n",
    "* False Positive Rate = FP/(FP + TN)\n",
    "\n",
    "* F1 Score = 2*(Precision * Recall)/(Precision + Recall)\n",
    "* Balanced Accuracy = (Sensitivity + Specificity)/2\n",
    "\n"
   ]
  },
  {
   "cell_type": "code",
   "execution_count": 100,
   "metadata": {
    "colab": {
     "base_uri": "https://localhost:8080/",
     "height": 0
    },
    "id": "hVFu5A1_DfMJ",
    "outputId": "5838a398-f64c-4058-fe23-d3de76152dba"
   },
   "outputs": [
    {
     "name": "stdout",
     "output_type": "stream",
     "text": [
      "simple classifer:\n",
      "Accuracy = 0.9872666666666666\n",
      "Precision = 0.9329577464788732\n",
      "Recall = 0.9583333333333334\n",
      "Specificity = 0.9910337552742616\n",
      "False Positive Rate = 0.008966244725738396\n",
      "F1 Score = 0.9454753068798173\n",
      "Balanced Accuracy = 0.9619957508765674\n",
      "tuned classifer:\n",
      "Accuracy = 0.9882666666666666\n",
      "Precision = 0.9394110985277463\n",
      "Recall = 0.9600694444444444\n",
      "Specificity = 0.9919379144062689\n",
      "False Positive Rate = 0.008062085593731163\n",
      "F1 Score = 0.9496279336004578\n",
      "Balanced Accuracy = 0.9656745064670076\n"
     ]
    }
   ],
   "source": [
    "#######################################################\n",
    "# TODO: Compute the accuracy, precision, recall etc. of the simple classifer you trained and the classifier that you tuned\n",
    "print(\"simple classifer:\")\n",
    "Accuracy = (TP + TN)/(TP + TN + FP + FN)\n",
    "Precision = Sensitivity = TP/(TP + FP)\n",
    "Recall = TP/(TP + FN)\n",
    "Specificity = TN/(TN + FP)\n",
    "False_Positive_Rate = FP/(FP + TN)\n",
    "F1_Score = 2*(Precision * Recall)/(Precision + Recall)\n",
    "Balanced_Accuracy = (Sensitivity + Specificity)/2\n",
    "print(\"Accuracy = \"+str(Accuracy))\n",
    "print(\"Precision = \"+str(Precision))\n",
    "print(\"Recall = \"+str(Recall))\n",
    "print(\"Specificity = \"+str(Specificity))\n",
    "print(\"False Positive Rate = \"+str(False_Positive_Rate))\n",
    "print(\"F1 Score = \"+str(F1_Score))\n",
    "print(\"Balanced Accuracy = \"+str(Balanced_Accuracy))\n",
    "print(\"tuned classifer:\")\n",
    "Accuracy2 = (TP2 + TN2)/(TP2 + TN2 + FP2 + FN2)\n",
    "Precision2 = Sensitivity2 = TP2/(TP2 + FP2)\n",
    "Recall2 = TP2/(TP2 + FN2)\n",
    "Specificity2 = TN2/(TN2 + FP2)\n",
    "False_Positive_Rate2 = FP2/(FP2 + TN2)\n",
    "F1_Score2 = 2*(Precision2 * Recall2)/(Precision2+ Recall2)\n",
    "Balanced_Accuracy2 = (Sensitivity2 + Specificity2)/2\n",
    "print(\"Accuracy = \"+str(Accuracy2))\n",
    "print(\"Precision = \"+str(Precision2))\n",
    "print(\"Recall = \"+str(Recall2))\n",
    "print(\"Specificity = \"+str(Specificity2))\n",
    "print(\"False Positive Rate = \"+str(False_Positive_Rate2))\n",
    "print(\"F1 Score = \"+str(F1_Score2))\n",
    "print(\"Balanced Accuracy = \"+str(Balanced_Accuracy2))\n",
    "\n",
    "#######################################################"
   ]
  },
  {
   "cell_type": "markdown",
   "metadata": {
    "id": "H1wJ1w4Mve48"
   },
   "source": [
    "| Model       | Accuracy |Precision| Recall| Specificity | False Positive Rate | F1 Score | Balanced Accuracy\n",
    "| :---        |    :----:   |           :----: |          :----: |          :----: | :----:       | :----:       | :----:       |\n",
    "| simple classifer    |   0.9873          |     0.9330          |        0.9583        |       0.9910         |   0.0090       |        0.9455     | 0.9620\n",
    "| tuned classifer      |  0.9883           |    0.9394           |     0.9601           |   0.9919             |  0.0081        |    0.9496 |  0.9657"
   ]
  },
  {
   "cell_type": "markdown",
   "metadata": {
    "id": "98FuyXRDD5yq"
   },
   "source": [
    "### ROC Curve and AUC metric \n",
    "The ROC curve is a metric used for the evaluation of binary classification models, where we evaluate how the model would perform if different cutoff thresholds (of predicted class probability) between the two classes were considered. This is useful when we don't necessarily know which class is more important to predict accurately. For example, if we wanted to evaluate how well a test for a highly infectious disease worked, we would care much more about identifying positive individuals correctly than negative individuals, even at the expense of additional false positives.\n",
    "\n",
    "To calculate a ROC curve first we need to get the class prediction probabilites from the model, rather than just the predicted classes, since these predicted classes were decided based on a predetermined classification threshold."
   ]
  },
  {
   "cell_type": "code",
   "execution_count": 111,
   "metadata": {
    "colab": {
     "base_uri": "https://localhost:8080/",
     "height": 573
    },
    "id": "oXUIlOVQEL3S",
    "outputId": "fa71877f-9e2d-4066-948c-ad686ba4021a"
   },
   "outputs": [
    {
     "data": {
      "image/png": "[encoded data removed]",
      "text/plain": [
       "<Figure size 432x288 with 1 Axes>"
      ]
     },
     "metadata": {
      "needs_background": "light"
     },
     "output_type": "display_data"
    },
    {
     "data": {
      "image/png": "[encoded data removed]",
      "text/plain": [
       "<Figure size 432x288 with 1 Axes>"
      ]
     },
     "metadata": {
      "needs_background": "light"
     },
     "output_type": "display_data"
    }
   ],
   "source": [
    "# Sample code for you to calculate ROC\n",
    "#Determine probabilities of class predictions for each test instance (this will be used much later in calculating an ROC curve)\n",
    "#probas_ = dt.fit(x_train_fs, y_train).predict_proba(x_test_fs)\n",
    "\n",
    "# Compute ROC curve and area the curve\n",
    "#fpr, tpr, thresholds = metrics.roc_curve(y_test, probas_[:, 1])\n",
    "#roc_auc = auc(fpr, tpr)\n",
    "\n",
    "#Plot the ROC Curve and include AUC in figure. \n",
    "#plt.figure()\n",
    "#lw = 2\n",
    "#plt.plot(fpr, tpr, color='darkorange',\n",
    "#         lw=lw, label='ROC curve (area = %0.2f)' % roc_auc)\n",
    "#plt.plot([0, 1], [0, 1], color='navy', lw=lw, linestyle='--')\n",
    "#plt.xlim([0.0, 1.0])\n",
    "#plt.ylim([0.0, 1.05])\n",
    "#plt.xlabel('False Positive Rate')\n",
    "#plt.ylabel('True Positive Rate')\n",
    "#plt.title('Receiver operating characteristic example')\n",
    "#plt.legend(loc=\"lower right\")\n",
    "#plt.show()\n",
    "\n",
    "#######################################################\n",
    "# TODO: Visualize the ROC and AUC for your models\n",
    "from sklearn.metrics import roc_curve,auc \n",
    "\n",
    "probas_ = clf.predict_proba(X_test)\n",
    "fpr, tpr, thresholds = roc_curve(y_test_binary, probas_[:, 1]) # as we are using label 1 as positive\n",
    "roc_auc = auc(fpr, tpr)\n",
    "\n",
    "#Plot the ROC Curve and include AUC in figure. \n",
    "plt.figure()\n",
    "lw = 2\n",
    "plt.plot(fpr, tpr, color='darkorange',\n",
    "         lw=lw, label='ROC curve (area = %0.2f)' % roc_auc)\n",
    "plt.plot([0, 1], [0, 1], color='navy', lw=lw, linestyle='--')\n",
    "plt.xlim([0.0, 1.0])\n",
    "plt.ylim([0.0, 1.05])\n",
    "plt.xlabel('False Positive Rate')\n",
    "plt.ylabel('True Positive Rate')\n",
    "plt.title('Receiver operating characteristic of simple classifer')\n",
    "plt.legend(loc=\"lower right\")\n",
    "plt.show()\n",
    "\n",
    "probas_ = clf2.predict_proba(X_test)\n",
    "fpr, tpr, thresholds = roc_curve(y_test_binary, probas_[:, 1]) # as we are using label 1 as positive\n",
    "roc_auc = auc(fpr, tpr)\n",
    "\n",
    "#Plot the ROC Curve and include AUC in figure. \n",
    "plt.figure()\n",
    "lw = 2\n",
    "plt.plot(fpr, tpr, color='darkorange',\n",
    "         lw=lw, label='ROC curve (area = %0.2f)' % roc_auc)\n",
    "plt.plot([0, 1], [0, 1], color='navy', lw=lw, linestyle='--')\n",
    "plt.xlim([0.0, 1.0])\n",
    "plt.ylim([0.0, 1.05])\n",
    "plt.xlabel('False Positive Rate')\n",
    "plt.ylabel('True Positive Rate')\n",
    "plt.title('Receiver operating characteristic of tuned classifer')\n",
    "plt.legend(loc=\"lower right\")\n",
    "plt.show()\n",
    "#######################################################"
   ]
  },
  {
   "cell_type": "markdown",
   "metadata": {
    "id": "DpnuHm0jFI1b"
   },
   "source": [
    "#### Discussion questions:\n",
    "\n",
    "1.   Which classifer performed better? Why? \n",
    "    <br><br>\n",
    "    <font color='blue'>\n",
    "    The tuned classifier performed better. This is because the tuned classifier has more true positive and true negative than the simple classifier, and also less false positive and false negative. Moreover, tuned classifier has higher Accuracy, Recall, Specificity, F1 Score, Balanced Accuracy and lower False Positive Rate. From the ROC and AUC, we can also see that the tuned classifier has higher AUC, and its ROC curve is more to the upper left than that of simple classifier, indicating a better performance.\n",
    "</font>\n",
    "<br><br>\n",
    "2. What other methods could you do to increase the performance of your model on a held out test set?\n",
    "<br><br>\n",
    "    <font color='blue'>\n",
    "    We can also: 1. Increase general size of the data (both training and testing set get larger). 2. improve the balance of classes in training set. 3. Remove correlations using PCA before training. 4. Improve the representative of the data (i.e. insure the data is not biased and contains more possible feature combinations)\n",
    "</font>\n",
    "<br><br>\n",
    "\n",
    "\n"
   ]
  },
  {
   "cell_type": "markdown",
   "metadata": {
    "id": "gQEEd9TUMNce"
   },
   "source": [
    "## Feedback\n",
    "\n",
    "Please provide us with some feedback on how long each section or this homework overall took you. Any other feedback is also welcomed. "
   ]
  },
  {
   "cell_type": "markdown",
   "metadata": {
    "id": "ll5FhwgKx4K6"
   },
   "source": [
    "## Submit\n",
    "Great work! You're all done.\n",
    "\n",
    "Make sure to submit this Python notebook (as a PDF) and the dataset you created as a zip file. See the homework writeup for directions."
   ]
  }
 ],
 "metadata": {
  "colab": {
   "collapsed_sections": [],
   "name": "Copy of  CS475_homework1_ practicum.ipynb",
   "provenance": []
  },
  "kernelspec": {
   "display_name": "Python 3",
   "language": "python",
   "name": "python3"
  },
  "language_info": {
   "codemirror_mode": {
    "name": "ipython",
    "version": 3
   },
   "file_extension": ".py",
   "mimetype": "text/x-python",
   "name": "python",
   "nbconvert_exporter": "python",
   "pygments_lexer": "ipython3",
   "version": "3.8.6"
  }
 },
 "nbformat": 4,
 "nbformat_minor": 1
}
